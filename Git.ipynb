{
 "cells": [
  {
   "cell_type": "markdown",
   "id": "ebbc1fdd-018d-4025-a288-7b8cd32aa4fc",
   "metadata": {},
   "source": [
    "# Version Control Software\n",
    "\n",
    "Version control tools are helpful for\n",
    "\n",
    " - Keeping track of data\n",
    "  - Tracking changes in programs\n",
    "   - Collaborating with others"
   ]
  }
 ],
 "metadata": {
  "kernelspec": {
   "display_name": "Python 3 (ipykernel)",
   "language": "python",
   "name": "python3"
  },
  "language_info": {
   "codemirror_mode": {
    "name": "ipython",
    "version": 3
   },
   "file_extension": ".py",
   "mimetype": "text/x-python",
   "name": "python",
   "nbconvert_exporter": "python",
   "pygments_lexer": "ipython3",
   "version": "3.11.0"
  }
 },
 "nbformat": 4,
 "nbformat_minor": 5
}
