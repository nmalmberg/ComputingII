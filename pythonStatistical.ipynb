{
 "cells": [
  {
   "cell_type": "markdown",
   "id": "subject-melissa",
   "metadata": {},
   "source": [
    "## Pandas\n",
    "\n",
    "Python's data structures (lists, dictionaries, etc.) are suitable for many purposes, but complex calculations repeated over and over again will often be slow in Python. *Numpy* was developed to create structures of data (called arrays) that are much faster in mathematical operations, in large part because the data types of all the elements in an array will be the same type. These numbers often lack the context to make the content meaningful, though. *Pandas* was developed on top of numpy to create data structures that would facilitate rapid calculation of numerical data while preserving the context that allows for the selection and manipulation of that data.\n",
    "\n",
    "Pandas is not included by default in Python, but can be installed and used like any other module in Python. In the documentation, pandas is usually abbreviated as pd in the import statement."
   ]
  },
  {
   "cell_type": "code",
   "execution_count": 1,
   "id": "fleet-empty",
   "metadata": {
    "tags": []
   },
   "outputs": [],
   "source": [
    "import pandas as pd"
   ]
  },
  {
   "cell_type": "markdown",
   "id": "minimal-information",
   "metadata": {},
   "source": [
    "### Series\n",
    "\n",
    "The fundamental one-dimensional unit of pandas data is the *Series*. A series will have values that are all the same data type, and will also have index values associated with the data values. The index defaults to a series of integers (0,1,2...), but alternate values can be provided."
   ]
  },
  {
   "cell_type": "code",
   "execution_count": 33,
   "id": "stupid-reserve",
   "metadata": {
    "tags": []
   },
   "outputs": [
    {
     "name": "stdout",
     "output_type": "stream",
     "text": [
      "0    12.3\n",
      "1    -4.0\n",
      "2     8.0\n",
      "3     2.7\n",
      "dtype: float64\n"
     ]
    }
   ],
   "source": [
    "numbers = pd.Series([12.3,-4,8,2.7])\n",
    "print(numbers)"
   ]
  },
  {
   "cell_type": "code",
   "execution_count": 34,
   "id": "known-serve",
   "metadata": {
    "tags": []
   },
   "outputs": [
    {
     "name": "stdout",
     "output_type": "stream",
     "text": [
      "Rick       24\n",
      "George     18\n",
      "Bob        31\n",
      "Freddie    25\n",
      "dtype: int64\n"
     ]
    }
   ],
   "source": [
    "ages = pd.Series([24,18,31,25],index=[\"Rick\",\"George\",\"Bob\",\"Freddie\"])\n",
    "print(ages)"
   ]
  },
  {
   "cell_type": "markdown",
   "id": "unexpected-preservation",
   "metadata": {},
   "source": [
    "Series can be subsetted by index, by slice or by boolean series."
   ]
  },
  {
   "cell_type": "code",
   "execution_count": 35,
   "id": "virgin-conservative",
   "metadata": {
    "tags": []
   },
   "outputs": [
    {
     "name": "stdout",
     "output_type": "stream",
     "text": [
      "-4.0\n"
     ]
    }
   ],
   "source": [
    "print(numbers[1])"
   ]
  },
  {
   "cell_type": "code",
   "execution_count": 36,
   "id": "3be902a3-3159-456b-b9da-1ede5e276f23",
   "metadata": {
    "tags": []
   },
   "outputs": [
    {
     "name": "stdout",
     "output_type": "stream",
     "text": [
      "31\n"
     ]
    }
   ],
   "source": [
    "print(ages[\"Bob\"])"
   ]
  },
  {
   "cell_type": "code",
   "execution_count": 37,
   "id": "f43a84e0-a34c-4eca-a55b-656d4adf8105",
   "metadata": {
    "tags": []
   },
   "outputs": [
    {
     "name": "stdout",
     "output_type": "stream",
     "text": [
      "George    18\n",
      "Rick      24\n",
      "George    18\n",
      "dtype: int64\n"
     ]
    }
   ],
   "source": [
    "print(ages[[\"George\",\"Rick\",\"George\"]])"
   ]
  },
  {
   "cell_type": "code",
   "execution_count": 40,
   "id": "3f7ab6ce-ef0c-4746-8c3f-a74d6717c08e",
   "metadata": {
    "tags": []
   },
   "outputs": [
    {
     "name": "stdout",
     "output_type": "stream",
     "text": [
      "George     18\n",
      "Bob        31\n",
      "Freddie    25\n",
      "dtype: int64\n"
     ]
    }
   ],
   "source": [
    "print(ages[\"George\":\"Freddie\"])"
   ]
  },
  {
   "cell_type": "code",
   "execution_count": 41,
   "id": "c6faddaa-3d82-4607-b919-df4f2c666b64",
   "metadata": {
    "tags": []
   },
   "outputs": [
    {
     "name": "stdout",
     "output_type": "stream",
     "text": [
      "Rick        True\n",
      "George      True\n",
      "Bob        False\n",
      "Freddie     True\n",
      "dtype: bool\n"
     ]
    }
   ],
   "source": [
    "print(ages<30)"
   ]
  },
  {
   "cell_type": "code",
   "execution_count": 46,
   "id": "95506e06-2cb4-4319-80fe-68e4999cb63f",
   "metadata": {
    "tags": []
   },
   "outputs": [
    {
     "name": "stdout",
     "output_type": "stream",
     "text": [
      "Bob        31\n",
      "Freddie    25\n",
      "dtype: int64\n"
     ]
    }
   ],
   "source": [
    "print(ages[ages>=25])"
   ]
  },
  {
   "cell_type": "markdown",
   "id": "narrow-alloy",
   "metadata": {},
   "source": [
    "Series values can be used in mathematical operations. Each element of the series will be used in the series, without the need to set up an explicit loop. "
   ]
  },
  {
   "cell_type": "code",
   "execution_count": 48,
   "id": "thick-review",
   "metadata": {
    "tags": []
   },
   "outputs": [
    {
     "name": "stdout",
     "output_type": "stream",
     "text": [
      "Rick       7.2\n",
      "George     5.4\n",
      "Bob        9.3\n",
      "Freddie    7.5\n",
      "dtype: float64\n"
     ]
    }
   ],
   "source": [
    "print(ages*0.3)"
   ]
  },
  {
   "cell_type": "code",
   "execution_count": 49,
   "id": "bigger-tyler",
   "metadata": {
    "tags": []
   },
   "outputs": [
    {
     "name": "stdout",
     "output_type": "stream",
     "text": [
      "Rick       34\n",
      "George     28\n",
      "Bob        41\n",
      "Freddie    35\n",
      "dtype: int64\n"
     ]
    }
   ],
   "source": [
    "print(ages+10)"
   ]
  },
  {
   "cell_type": "markdown",
   "id": "simple-offset",
   "metadata": {},
   "source": [
    "Series can be used in mathematical operations with other series. In this case, the operations are aligned by index value, meaning the operation will be performed for each index value in the pair of series. If the two series have different values in their indices, this will lead to NaN (not a number) values for every index value that is unique to one of the series. As such, it's helpful when performing mathematical operations with multiple series if they have a common index."
   ]
  },
  {
   "cell_type": "code",
   "execution_count": 53,
   "id": "developed-portable",
   "metadata": {
    "tags": []
   },
   "outputs": [
    {
     "name": "stdout",
     "output_type": "stream",
     "text": [
      "0    3.507136\n",
      "1         NaN\n",
      "2    2.828427\n",
      "3    1.643168\n",
      "dtype: float64\n"
     ]
    }
   ],
   "source": [
    "print(numbers**0.5)"
   ]
  },
  {
   "cell_type": "code",
   "execution_count": 54,
   "id": "oriented-abortion",
   "metadata": {
    "tags": []
   },
   "outputs": [
    {
     "name": "stdout",
     "output_type": "stream",
     "text": [
      "0         NaN\n",
      "1         NaN\n",
      "2         NaN\n",
      "3         NaN\n",
      "Bob       NaN\n",
      "Freddie   NaN\n",
      "George    NaN\n",
      "Rick      NaN\n",
      "dtype: float64\n"
     ]
    }
   ],
   "source": [
    "print(numbers+ages)"
   ]
  },
  {
   "cell_type": "markdown",
   "id": "impossible-patient",
   "metadata": {},
   "source": [
    "### Data Frames\n",
    "\n",
    "It will often be convenient, when performing calculations on different sets of numbers, to create sets of series that share a common index. The series will then have the same length, and mathematical operations between the series will be aligned appropriately. In pandas, this structure is called a *data frame*, and is the most common data structure used in data analyses in pandas. In addition to the common index, each series will also have a unique name and its own data type. This arrangement of data fits nicely into the tidy data paradigm, with each series representing a column of values corresponding to a particular variable (usually the name of the series), and each value in the index corresponding to a different observation or row.\n",
    "\n",
    "While there is a function, *DataFrame*, that can be used to create a data frame from individual series, it's more common to compile data in another file and read it into Python. There are pandas functions for reading data from different files or other sources. Reading of data from text files is generally based on the CSV (comma-separated values) format, which can be generated either by hand or by several different programs.\n",
    "\n",
    "The following code block reads data from a file that is *not* in CSV format, but still uses the read_csv function to read it. Several optional arguments are provided to indicate how the data is formatted."
   ]
  },
  {
   "cell_type": "code",
   "execution_count": 2,
   "id": "capital-millennium",
   "metadata": {
    "tags": []
   },
   "outputs": [
    {
     "name": "stdout",
     "output_type": "stream",
     "text": [
      "            station        fuel    ppg     mpg\n",
      "2013-09-16  7Eleven  Unleaded87  3.459  29.886\n",
      "2013-09-26  7Eleven  Unleaded87  3.259  28.830\n",
      "2013-10-02   Murphy  Unleaded87  3.339  29.795\n",
      "2013-10-08    OnCue  Unleaded87  3.119  30.216\n",
      "2013-10-13    OnCue  Unleaded87  3.259  28.615\n",
      "2013-10-22    OnCue  Unleaded87  3.199  31.215\n",
      "2013-10-28  7Eleven  Unleaded87  3.099  30.986\n",
      "2013-11-05    OnCue  Unleaded87  2.919  30.017\n",
      "2013-11-11  CircleK         E10  2.799  28.054\n",
      "2013-11-17    Shell  Unleaded87  3.089  29.304\n",
      "2013-11-21    OnCue         E10  2.739  26.818\n",
      "2013-11-26  7Eleven  Unleaded87  3.049  28.559\n",
      "2013-12-03    Shell         E10  2.699  26.456\n",
      "2013-12-10    OnCue  Unleaded87  2.999  28.244\n",
      "2013-12-16  7Eleven  Unleaded87  2.949  25.982\n",
      "2013-12-28    OnCue  Unleaded87  3.099  26.691\n",
      "2014-01-07    OnCue  Unleaded89  3.149  28.937\n",
      "2014-01-14  7Eleven  Unleaded87  3.049  30.635\n",
      "2014-01-20    OnCue  Unleaded87  3.099  27.399\n",
      "2014-01-25  7Eleven         E10  2.989  27.255\n",
      "2014-01-30    OnCue         E10  2.999  26.939\n",
      "2014-02-04  7Eleven  Unleaded87  3.159  26.213\n",
      "2014-02-09   Valero         E10  2.979  27.917\n",
      "2014-02-14    OnCue  Unleaded87  3.299  30.699\n",
      "2014-02-20  7Eleven  Unleaded87  3.099  28.696\n",
      "2014-02-25    OnCue         E10  3.199  29.571\n",
      "2014-03-01    Shell         E10  3.259  27.780\n",
      "2014-03-08    OnCue  Unleaded87  3.479  29.013\n",
      "2014-03-14  7Eleven         E10  3.279  27.651\n",
      "2014-03-26   Valero  Unleaded87  3.389  29.765\n"
     ]
    }
   ],
   "source": [
    "gas = pd.read_csv(\"gasoline.data\", delim_whitespace=True,\n",
    "                 index_col=0, parse_dates=True)\n",
    "print(gas)"
   ]
  },
  {
   "cell_type": "markdown",
   "id": "electric-attack",
   "metadata": {},
   "source": [
    "### Subsetting\n",
    "\n",
    "With a pandas data frame, it will often be helpful in performing analyses to be able to generate subsets of a collection of data for further processing. Pandas series and data frames are frequently treated like lists or dictionaries, in that the same subsetting notation (square brackets) is used for all of them. Series and data frames have additional syntax which allows for a more sophisticated selection of data.\n",
    "\n",
    "Providing a data frame with the name of a series in the data frame will return the series."
   ]
  },
  {
   "cell_type": "code",
   "execution_count": 56,
   "id": "connected-disclaimer",
   "metadata": {
    "tags": []
   },
   "outputs": [
    {
     "name": "stdout",
     "output_type": "stream",
     "text": [
      "2013-09-16    Unleaded87\n",
      "2013-09-26    Unleaded87\n",
      "2013-10-02    Unleaded87\n",
      "2013-10-08    Unleaded87\n",
      "2013-10-13    Unleaded87\n",
      "2013-10-22    Unleaded87\n",
      "2013-10-28    Unleaded87\n",
      "2013-11-05    Unleaded87\n",
      "2013-11-11           E10\n",
      "2013-11-17    Unleaded87\n",
      "2013-11-21           E10\n",
      "2013-11-26    Unleaded87\n",
      "2013-12-03           E10\n",
      "2013-12-10    Unleaded87\n",
      "2013-12-16    Unleaded87\n",
      "2013-12-28    Unleaded87\n",
      "2014-01-07    Unleaded89\n",
      "2014-01-14    Unleaded87\n",
      "2014-01-20    Unleaded87\n",
      "2014-01-25           E10\n",
      "2014-01-30           E10\n",
      "2014-02-04    Unleaded87\n",
      "2014-02-09           E10\n",
      "2014-02-14    Unleaded87\n",
      "2014-02-20    Unleaded87\n",
      "2014-02-25           E10\n",
      "2014-03-01           E10\n",
      "2014-03-08    Unleaded87\n",
      "2014-03-14           E10\n",
      "2014-03-26    Unleaded87\n",
      "Name: fuel, dtype: object\n"
     ]
    }
   ],
   "source": [
    "print(gas[\"fuel\"])"
   ]
  },
  {
   "cell_type": "markdown",
   "id": "palestinian-lottery",
   "metadata": {},
   "source": [
    "Subsets of data can be selected by row identifiers (the index), column identifiers (names), and/or by boolean series for rows or columns. When using boolean series, rows or columns that have a True value in the series will be returned in the subset. Note that this code block uses the *loc* attribute to select the particular subset we are interested in. "
   ]
  },
  {
   "cell_type": "code",
   "execution_count": 57,
   "id": "unique-radiation",
   "metadata": {
    "tags": []
   },
   "outputs": [
    {
     "name": "stdout",
     "output_type": "stream",
     "text": [
      "2013-09-16     True\n",
      "2013-09-26     True\n",
      "2013-10-02     True\n",
      "2013-10-08     True\n",
      "2013-10-13     True\n",
      "2013-10-22     True\n",
      "2013-10-28     True\n",
      "2013-11-05     True\n",
      "2013-11-11     True\n",
      "2013-11-17     True\n",
      "2013-11-21    False\n",
      "2013-11-26     True\n",
      "2013-12-03    False\n",
      "2013-12-10     True\n",
      "2013-12-16    False\n",
      "2013-12-28    False\n",
      "2014-01-07     True\n",
      "2014-01-14     True\n",
      "2014-01-20     True\n",
      "2014-01-25     True\n",
      "2014-01-30    False\n",
      "2014-02-04    False\n",
      "2014-02-09     True\n",
      "2014-02-14     True\n",
      "2014-02-20     True\n",
      "2014-02-25     True\n",
      "2014-03-01     True\n",
      "2014-03-08     True\n",
      "2014-03-14     True\n",
      "2014-03-26     True\n",
      "Name: mpg, dtype: bool\n"
     ]
    }
   ],
   "source": [
    "print(gas[\"mpg\"]>27)"
   ]
  },
  {
   "cell_type": "code",
   "execution_count": 58,
   "id": "institutional-reliance",
   "metadata": {
    "tags": []
   },
   "outputs": [
    {
     "name": "stdout",
     "output_type": "stream",
     "text": [
      "            station        fuel    ppg     mpg\n",
      "2013-09-16  7Eleven  Unleaded87  3.459  29.886\n",
      "2013-09-26  7Eleven  Unleaded87  3.259  28.830\n",
      "2013-10-02   Murphy  Unleaded87  3.339  29.795\n",
      "2013-10-08    OnCue  Unleaded87  3.119  30.216\n",
      "2013-10-13    OnCue  Unleaded87  3.259  28.615\n",
      "2013-10-22    OnCue  Unleaded87  3.199  31.215\n",
      "2013-10-28  7Eleven  Unleaded87  3.099  30.986\n",
      "2013-11-05    OnCue  Unleaded87  2.919  30.017\n",
      "2013-11-11  CircleK         E10  2.799  28.054\n",
      "2013-11-17    Shell  Unleaded87  3.089  29.304\n",
      "2013-11-26  7Eleven  Unleaded87  3.049  28.559\n",
      "2013-12-10    OnCue  Unleaded87  2.999  28.244\n",
      "2014-01-07    OnCue  Unleaded89  3.149  28.937\n",
      "2014-01-14  7Eleven  Unleaded87  3.049  30.635\n",
      "2014-01-20    OnCue  Unleaded87  3.099  27.399\n",
      "2014-01-25  7Eleven         E10  2.989  27.255\n",
      "2014-02-09   Valero         E10  2.979  27.917\n",
      "2014-02-14    OnCue  Unleaded87  3.299  30.699\n",
      "2014-02-20  7Eleven  Unleaded87  3.099  28.696\n",
      "2014-02-25    OnCue         E10  3.199  29.571\n",
      "2014-03-01    Shell         E10  3.259  27.780\n",
      "2014-03-08    OnCue  Unleaded87  3.479  29.013\n",
      "2014-03-14  7Eleven         E10  3.279  27.651\n",
      "2014-03-26   Valero  Unleaded87  3.389  29.765\n"
     ]
    }
   ],
   "source": [
    "print(gas.loc[gas[\"mpg\"]>27,:])"
   ]
  },
  {
   "cell_type": "markdown",
   "id": "according-scroll",
   "metadata": {},
   "source": [
    "### Grouping and Aggregating Data\n",
    "\n",
    "Data in a \"tidy\" format, with categories listed in different columns, often need to be separated into categories in the process of analyzing the data. This can be accomplished fairly readily in pandas data frames with a *groupby* method, which takes as its main argument the column (or columns, if provided with a list) that contain the categories of the data. The method returns an object that contains the groups into which the data is collected. This grouped object can be used like a list in looping structures, or it can be analyzed with *aggregating* methods that perform simple calculations on the data.\n",
    "\n",
    "The following code block groups the gasoline data by fuel and station, and calculates the mean of the price per gallon for every combination of fuel and station. To showcase another feature of pandas data frames, the resulting aggregated prices will also be displayed in a \"wide\" form, which is common for display of certain types of data. This analysis will be performed in steps, but the steps could be combined into a single line to avoid unnecessary creation of variable names."
   ]
  },
  {
   "cell_type": "code",
   "execution_count": 3,
   "id": "interim-alert",
   "metadata": {
    "tags": []
   },
   "outputs": [
    {
     "name": "stdout",
     "output_type": "stream",
     "text": [
      "                         ppg\n",
      "fuel       station          \n",
      "E10        7Eleven  3.134000\n",
      "           CircleK  2.799000\n",
      "           OnCue    2.979000\n",
      "           Shell    2.979000\n",
      "           Valero   2.979000\n",
      "Unleaded87 7Eleven  3.140250\n",
      "           Murphy   3.339000\n",
      "           OnCue    3.163444\n",
      "           Shell    3.089000\n",
      "           Valero   3.389000\n",
      "Unleaded89 OnCue    3.149000\n"
     ]
    }
   ],
   "source": [
    "pricegroups = gas[[\"fuel\",\"station\",\"ppg\"]].groupby([\"fuel\",\"station\"])\n",
    "pricemean = pricegroups.mean()\n",
    "print(pricemean)"
   ]
  },
  {
   "cell_type": "code",
   "execution_count": 5,
   "id": "offensive-officer",
   "metadata": {
    "tags": []
   },
   "outputs": [
    {
     "name": "stdout",
     "output_type": "stream",
     "text": [
      "                ppg                                       \n",
      "station     7Eleven CircleK Murphy     OnCue  Shell Valero\n",
      "fuel                                                      \n",
      "E10         3.13400   2.799    NaN  2.979000  2.979  2.979\n",
      "Unleaded87  3.14025     NaN  3.339  3.163444  3.089  3.389\n",
      "Unleaded89      NaN     NaN    NaN  3.149000    NaN    NaN\n"
     ]
    }
   ],
   "source": [
    "print(pricemean.unstack())"
   ]
  },
  {
   "cell_type": "code",
   "execution_count": 4,
   "id": "c9352276-42be-42a0-8a58-58256349e61e",
   "metadata": {
    "tags": []
   },
   "outputs": [
    {
     "name": "stdout",
     "output_type": "stream",
     "text": [
      "                          mpg\n",
      "fuel       station           \n",
      "E10        7Eleven  27.453000\n",
      "           CircleK  28.054000\n",
      "           OnCue    27.776000\n",
      "           Shell    27.118000\n",
      "           Valero   27.917000\n",
      "Unleaded87 7Eleven  28.723375\n",
      "           Murphy   29.795000\n",
      "           OnCue    29.123222\n",
      "           Shell    29.304000\n",
      "           Valero   29.765000\n",
      "Unleaded89 OnCue    28.937000\n"
     ]
    }
   ],
   "source": [
    "mpggroups = gas[[\"fuel\",\"station\",\"mpg\"]].groupby([\"fuel\",\"station\"])\n",
    "mpgmeans = mpggroups.mean()\n",
    "print(mpgmeans)"
   ]
  },
  {
   "cell_type": "markdown",
   "id": "oriented-bruce",
   "metadata": {},
   "source": [
    "## Statistical Analysis\n",
    "\n",
    "Pandas data frames are classes with methods for collecting rudimentary analyses of data, such as finding averages, sums or extreme values within the collection of data. To perform more rigorous statistical analyses, though, other Python modules can be used. The *statsmodels* module facilitates statistical analysis of data assembled in pandas data frames. The module provides several functions for doing different\n",
    "types of data analysis."
   ]
  },
  {
   "cell_type": "code",
   "execution_count": 6,
   "id": "varied-editor",
   "metadata": {
    "tags": []
   },
   "outputs": [],
   "source": [
    "import statsmodels as sm"
   ]
  },
  {
   "cell_type": "code",
   "execution_count": 7,
   "id": "right-cleaners",
   "metadata": {
    "tags": []
   },
   "outputs": [],
   "source": [
    "import statsmodels.formula.api as smf"
   ]
  },
  {
   "cell_type": "code",
   "execution_count": 8,
   "id": "continuous-algeria",
   "metadata": {
    "tags": []
   },
   "outputs": [],
   "source": [
    "from scipy import stats"
   ]
  },
  {
   "cell_type": "code",
   "execution_count": 9,
   "id": "fewer-motivation",
   "metadata": {
    "tags": []
   },
   "outputs": [
    {
     "data": {
      "text/plain": [
       "Ttest_indResult(statistic=2.4538705315908325, pvalue=0.020869556705461444)"
      ]
     },
     "execution_count": 9,
     "metadata": {},
     "output_type": "execute_result"
    }
   ],
   "source": [
    "stats.ttest_ind(gas[\"ppg\"][gas[\"fuel\"]==\"Unleaded87\"],\n",
    "            gas[\"ppg\"][gas[\"fuel\"]==\"E10\"])"
   ]
  },
  {
   "cell_type": "code",
   "execution_count": null,
   "id": "scenic-integral",
   "metadata": {
    "tags": []
   },
   "outputs": [],
   "source": [
    "stationsmodel = smf.ols('ppg~station', data=gas)\n",
    "stationlm = stationsmodel.fit()\n",
    "print(stationlm.summary())"
   ]
  },
  {
   "cell_type": "markdown",
   "id": "driving-porcelain",
   "metadata": {},
   "source": [
    "## Visualization of Data\n",
    "\n",
    "Several Python modules have been developed to produce plots of numerical data. Pandas is designed to work particularly well with matplotlib, which is part of the same project that developed numpy, on which Pandas is based. "
   ]
  },
  {
   "cell_type": "code",
   "execution_count": null,
   "id": "documented-production",
   "metadata": {
    "tags": []
   },
   "outputs": [],
   "source": [
    "from matplotlib import pyplot as plt"
   ]
  },
  {
   "cell_type": "markdown",
   "id": "baking-polls",
   "metadata": {},
   "source": [
    "Pandas series and data frames include methods for plotting data. By default, they will use matplotlib for the functions required for creating plots.\n",
    "\n",
    "Plotting a Series will plot the values in the series as a function of the index values."
   ]
  },
  {
   "cell_type": "code",
   "execution_count": null,
   "id": "dynamic-annex",
   "metadata": {
    "tags": []
   },
   "outputs": [],
   "source": [
    "gas[\"ppg\"].plot()"
   ]
  },
  {
   "cell_type": "markdown",
   "id": "christian-wright",
   "metadata": {},
   "source": [
    "Pandas data frames also have a plot method associated with them."
   ]
  },
  {
   "cell_type": "code",
   "execution_count": null,
   "id": "optional-blake",
   "metadata": {
    "tags": []
   },
   "outputs": [],
   "source": [
    "gas.plot()"
   ]
  },
  {
   "cell_type": "markdown",
   "id": "twenty-transcript",
   "metadata": {},
   "source": [
    "Plots can be created by specifying the x and y values by column title."
   ]
  },
  {
   "cell_type": "code",
   "execution_count": null,
   "id": "tough-clearing",
   "metadata": {
    "tags": []
   },
   "outputs": [],
   "source": [
    "gas.plot(x=\"ppg\", y=\"mpg\", kind=\"scatter\")"
   ]
  },
  {
   "cell_type": "markdown",
   "id": "suspended-soccer",
   "metadata": {},
   "source": [
    "Creating a program will allow you to manage plotting while leveraging other aspects of data management in Python"
   ]
  },
  {
   "cell_type": "code",
   "execution_count": null,
   "id": "native-geography",
   "metadata": {
    "tags": []
   },
   "outputs": [],
   "source": [
    "gas.boxplot(column=\"ppg\", by=\"fuel\")"
   ]
  },
  {
   "cell_type": "markdown",
   "id": "removed-detection",
   "metadata": {},
   "source": [
    "## Seaborn\n",
    "\n",
    "It's possible to create fairly sophisticated plots with Matplotlib, but this generally requires quite a bit of code to accomplish. Other Python modules have been developed to create more sophisticated plots with a smaller amount of code. Seaborn is a module that defines several functions for generating plots with Matplotlib, while specifying a relatively few parameters."
   ]
  },
  {
   "cell_type": "code",
   "execution_count": null,
   "id": "alternate-render",
   "metadata": {
    "tags": []
   },
   "outputs": [],
   "source": [
    "import seaborn as sns"
   ]
  },
  {
   "cell_type": "code",
   "execution_count": null,
   "id": "intelligent-reynolds",
   "metadata": {
    "tags": []
   },
   "outputs": [],
   "source": [
    "sns.scatterplot(x=\"ppg\",y=\"mpg\",hue=\"station\",data=gas)"
   ]
  },
  {
   "cell_type": "code",
   "execution_count": null,
   "id": "disabled-brunswick",
   "metadata": {},
   "outputs": [],
   "source": []
  }
 ],
 "metadata": {
  "kernelspec": {
   "display_name": "Python 3 (ipykernel)",
   "language": "python",
   "name": "python3"
  },
  "language_info": {
   "codemirror_mode": {
    "name": "ipython",
    "version": 3
   },
   "file_extension": ".py",
   "mimetype": "text/x-python",
   "name": "python",
   "nbconvert_exporter": "python",
   "pygments_lexer": "ipython3",
   "version": "3.11.0"
  }
 },
 "nbformat": 4,
 "nbformat_minor": 5
}
